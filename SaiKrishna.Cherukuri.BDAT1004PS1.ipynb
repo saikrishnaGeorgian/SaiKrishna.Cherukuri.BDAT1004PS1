{
 "cells": [
  {
   "cell_type": "markdown",
   "id": "8b12892f",
   "metadata": {},
   "source": [
    "# Problem Set 1"
   ]
  },
  {
   "cell_type": "markdown",
   "id": "a42d92e9",
   "metadata": {},
   "source": [
    "## Question 1\n",
    "What data type is each of the following (evaluate where necessary)?"
   ]
  },
  {
   "cell_type": "code",
   "execution_count": 1,
   "id": "72a843f6",
   "metadata": {},
   "outputs": [
    {
     "name": "stdout",
     "output_type": "stream",
     "text": [
      "<class 'int'>\n",
      "<class 'float'>\n",
      "<class 'bool'>\n",
      "<class 'str'>\n",
      "<class 'int'>\n",
      "<class 'str'>\n",
      "<class 'str'>\n",
      "<class 'float'>\n",
      "<class 'int'>\n",
      "<class 'set'>\n",
      "<class 'bool'>\n",
      "<class 'float'>\n"
     ]
    }
   ],
   "source": [
    "## type() function can evaluate the data type for a variable and printing the output for each is \n",
    "print(type(5)) ## integer because of lack of decimal point\n",
    "print(type(5.0)) ## float because of decimal point\n",
    "print(type(5 > 1)) ## boolean because of the greater than sign\n",
    "print(type('5')) ## \n",
    "print(type(5 * 2))\n",
    "print(type('5' * 2))\n",
    "print(type('5' + '2'))\n",
    "print(type(5 / 2))\n",
    "print(type(5 % 2))\n",
    "print(type({5, 2, 1}))\n",
    "print(type(5 == 3))\n",
    "print(type(3.14))"
   ]
  },
  {
   "cell_type": "markdown",
   "id": "173002a9",
   "metadata": {},
   "source": [
    "## Question 2\n",
    "Write (and evaluate) python expressions that answer these questions:\n",
    "<br>\n",
    "a. How many letters are there in 'Supercalifragilisticexpialidocious'?\n",
    "<br>\n",
    "b. Does 'Supercalifragilisticexpialidocious' contain 'ice' as a substring?\n",
    "<br>\n",
    "c. Which of the following words is the longest:\n",
    "Supercalifragilisticexpialidocious, Honorificabilitudinitatibus, or\n",
    "Bababadalgharaghtakamminarronnkonn?\n",
    "<br>\n",
    "d. Which composer comes first in the dictionary: 'Berlioz', 'Borodin', 'Brian',\n",
    "'Bartok', 'Bellini', 'Buxtehude', 'Bernstein'. Which one comes last?"
   ]
  },
  {
   "cell_type": "code",
   "execution_count": 15,
   "id": "fb788a14",
   "metadata": {},
   "outputs": [
    {
     "name": "stdout",
     "output_type": "stream",
     "text": [
      "a. letters in 'Supercalifragilisticexpialidocious:  34\n",
      "b. Does 'Supercalifragilisticexpialidocious' contain 'ice' as a substring?:  True\n",
      "c. The longest string is:  Supercalifragilisticexpialidocious  . It's length is:  34\n",
      "First composer:  Bartok  Last composer:  Buxtehude\n"
     ]
    }
   ],
   "source": [
    "var_str_1 = 'Supercalifragilisticexpialidocious'\n",
    "var_str_2 = 'Honorificabilitudinitatibus'\n",
    "var_str_3 = 'Bababadalgharaghtakamminarronnkonn'\n",
    "composer = [ 'Berlioz', 'Borodin', 'Brian', 'Bartok', 'Bellini', 'Buxtehude', 'Bernstein']\n",
    "## a\n",
    "\n",
    "print(\"a. letters in 'Supercalifragilisticexpialidocious: \", len('Supercalifragilisticexpialidocious'))\n",
    "\n",
    "## b\n",
    "found_substr = True if var_str.find('ice') > -1 else False\n",
    "print(\"b. Does 'Supercalifragilisticexpialidocious' contain 'ice' as a substring?: \", found_substr)\n",
    "\n",
    "## c\n",
    "list_str = [var_str_1, var_str_2, var_str_3]\n",
    "max_str = {'max_str' : \"\", \"len\": -1}\n",
    "\n",
    "for word in list_str:\n",
    "    if len(word) > max_str[\"len\"]:\n",
    "        max_str[\"max_str\"] = word\n",
    "        max_str[\"len\"] = len(word)\n",
    "print(\"c. The longest string is: \",max_str[\"max_str\"],\" . It's length is: \",max_str[\"len\"])\n",
    "\n",
    "## d\n",
    "composer.sort() ## Sort the list of strings\n",
    "print(\"First composer: \",composer[0],\" Last composer: \",composer[-1])"
   ]
  },
  {
   "cell_type": "markdown",
   "id": "9c46ca21",
   "metadata": {},
   "source": [
    "## Question 3\n",
    "Implement function triangleArea(a,b,c) that takes as input the lengths of the 3 sides of a triangle and returns the area of the triangle. By Heron's formula, the area of a triangle with side lengths a, b, and c is Sqrt( s(s - a)(s -b)(s -c) ), where s = (a+b+c)/2"
   ]
  },
  {
   "cell_type": "code",
   "execution_count": 74,
   "id": "77920175",
   "metadata": {},
   "outputs": [
    {
     "name": "stdout",
     "output_type": "stream",
     "text": [
      "1.7320508075688772\n"
     ]
    }
   ],
   "source": [
    "##Import math library for squareroot function\n",
    "import math\n",
    "\n",
    "##Define function\n",
    "def triangleArea(a,b,c):\n",
    "    ##Set value for s\n",
    "    s = (a + b + c) /2\n",
    "    ##Find the area\n",
    "    area = math.sqrt(s * (s - a) * (s - b) * (s - c)) \n",
    "    ##Print area\n",
    "    print(area)\n",
    "\n",
    "triangleArea(2,2,2)"
   ]
  },
  {
   "cell_type": "markdown",
   "id": "4d219a94",
   "metadata": {},
   "source": [
    "## Question 4\n",
    "Write a program in python to separate odd and even integers in separate arrays. Go\n",
    "to the editor"
   ]
  },
  {
   "cell_type": "code",
   "execution_count": 5,
   "id": "0d686143",
   "metadata": {},
   "outputs": [
    {
     "name": "stdout",
     "output_type": "stream",
     "text": [
      "Input the number of elements to be stored in the array: 5\n",
      "Element-0: 25\n",
      "Element-1: 47\n",
      "Element-2: 42\n",
      "Element-3: 56\n",
      "Element-4: 32\n",
      "Even Numbers are:  [42, 56, 32]\n",
      "Odd Numbers are:  [25, 47]\n"
     ]
    }
   ],
   "source": [
    "n = int(input(\"Input the number of elements to be stored in the array: \"))\n",
    "even_nums = []\n",
    "odd_nums = []\n",
    "##Loop for n times to get numbers \n",
    "for i in range(0,n):\n",
    "    ##Get a number\n",
    "    num = int(input(\"Element-\"+str(i)+\": \"))\n",
    "    ##Check if the number is even or odd\n",
    "    if num%2== 0:\n",
    "        ## Append to even list if the number is found to be even\n",
    "        even_nums.append(num)\n",
    "    else:\n",
    "        ## Append to odd list if the number is found to be odd\n",
    "        odd_nums.append(num)\n",
    "\n",
    "print(\"Even Numbers are: \",even_nums)\n",
    "print(\"Odd Numbers are: \",odd_nums)"
   ]
  },
  {
   "cell_type": "markdown",
   "id": "6fe39727",
   "metadata": {},
   "source": [
    "## Question 5\n",
    "a. Write a function inside(x,y,x1,y1,x2,y2) that returns True or False\n",
    "depending on whether the point (x,y) lies in the rectangle with lower left\n",
    "corner (x1,y1) and upper right corner (x2,y2).\n",
    "<br>\n",
    "b. Use function inside() from part a. to write an expression that tests whether\n",
    "the point (1,1) lies in both of the following rectangles: one with lower left\n",
    "corner (0.3, 0.5) and upper right corner (1.1, 0.7) and the other with lower\n",
    "left corner (0.5, 0.2) and upper right corner (1.1, 2). "
   ]
  },
  {
   "cell_type": "code",
   "execution_count": 13,
   "id": "5612793b",
   "metadata": {},
   "outputs": [
    {
     "name": "stdout",
     "output_type": "stream",
     "text": [
      "False\n"
     ]
    }
   ],
   "source": [
    "def inside(x,y,x1,y1,x2,y2):\n",
    "    result = False\n",
    "    if x>=x1 and x <=x2 and y >= y1 and y <= y2:\n",
    "        result = True\n",
    "    return result\n",
    "\n",
    "if inside(1,1,0.3,0.5,1.1,0.7) and inside(1,1,0.5,0.2,1.1,2):\n",
    "    print(True)\n",
    "else:\n",
    "    print(False)"
   ]
  },
  {
   "cell_type": "markdown",
   "id": "8c45b17b",
   "metadata": {},
   "source": [
    "## Question 6\n",
    "You can turn a word into pig-Latin using the following two rules (simplified):\n",
    "<br>\n",
    "• If the word starts with a consonant, move that letter to the end and append\n",
    "'ay'. For example, 'happy' becomes 'appyhay' and 'pencil' becomes 'encilpay'.\n",
    "<br>\n",
    "• If the word starts with a vowel, simply append 'way' to the end of the word.\n",
    "For example, 'enter' becomes 'enterway' and 'other' becomes 'otherway'. \n",
    "<br>\n",
    "For our purposes, there are 5 vowels: a, e, i, o, u (so we count y as a consonant). \n",
    "<br>\n",
    "Write a function pig() that takes a word (i.e., a string) as input and returns its pigLatin form. Your function should still work if the input word contains upper case characters. Your output should always be lower case however. "
   ]
  },
  {
   "cell_type": "code",
   "execution_count": 21,
   "id": "4db6ebfd",
   "metadata": {},
   "outputs": [
    {
     "data": {
      "text/plain": [
       "'enterway'"
      ]
     },
     "execution_count": 21,
     "metadata": {},
     "output_type": "execute_result"
    }
   ],
   "source": [
    "##Define function to convert word into pig-latin\n",
    "def pig(word):\n",
    "    ##List vowels\n",
    "    vowels = ('a','e','i','o','u')\n",
    "    ## Initialize ends\n",
    "    vowel_end = \"way\"\n",
    "    consonant_end = \"ay\"\n",
    "    ## convert the words into lower case \n",
    "    lower_word = word.lower()\n",
    "    ## check if the word is not empty \n",
    "    if len(lower_word) > 0:\n",
    "        ## check the first letter\n",
    "        first_char = lower_word[0]\n",
    "        ## Check if the first letter is a vowel\n",
    "        if first_char in vowels:\n",
    "            ##If a vowel return the pig-latin version for vowel as the first letter\n",
    "            return lower_word + vowel_end\n",
    "        else:\n",
    "            ##Check if the word is longer than one letter\n",
    "            if len(lower_word) > 1:\n",
    "                ## Replace the word with everything except the first letter\n",
    "                lower_word = lower_word[1:]\n",
    "                ##If a consonant return the pig-latin version for consonant as the first letter\n",
    "                return lower_word + first_char + consonant_end\n",
    "            else:\n",
    "                return lower_word + consonant_end\n",
    "    else:\n",
    "        return \"\"\n",
    "##Test with a consonant letter start\n",
    "print(pig(\"happy\"))\n",
    "##Test with a vowel letter start\n",
    "print(pig(\"Enter\"))"
   ]
  },
  {
   "cell_type": "markdown",
   "id": "e35083ba",
   "metadata": {},
   "source": [
    "## Question 7\n",
    "File bloodtype1.txt records blood-types of patients (A, B, AB, O or OO) at a clinic.\n",
    "<br>\n",
    "Write a function bldcount() that reads the file with name name and reports (i.e.,\n",
    "prints) how many patients there are in each bloodtype."
   ]
  },
  {
   "cell_type": "code",
   "execution_count": 29,
   "id": "66953021",
   "metadata": {},
   "outputs": [
    {
     "name": "stdout",
     "output_type": "stream",
     "text": [
      "There are 7 patients of blood type A.\n",
      "There are 6 patients of blood type B.\n",
      "There are 5 patients of blood type AB.\n",
      "There is one patient of blood type O.\n",
      "There is no patient of blood type OO.\n"
     ]
    }
   ],
   "source": [
    "def bldcount(file_name):\n",
    "    ##Initialize the dictionary of blood types for each type at zero\n",
    "    bld_count = {'A': 0,'B': 0,'AB': 0,'O': 0,'OO': 0}\n",
    "    ##Open the file\n",
    "    file = open(file_name, 'r')\n",
    "    ##Read all lines\n",
    "    lines = file.readlines()\n",
    "    ##Iterate through each line\n",
    "    for line in lines:\n",
    "        ## increment the counter for the encountered blood type\n",
    "        bld_type = line.strip()\n",
    "        bld_count[bld_type] = bld_count[bld_type] + 1\n",
    "    \n",
    "    ##Iterate through the count to print report\n",
    "    for key, value in bld_count.items():\n",
    "        ##If no patient is found\n",
    "        if value <1:\n",
    "            print(\"There is no patient of blood type \"+key+\".\")\n",
    "        ##If one patient is found\n",
    "        elif value == 1:\n",
    "            print(\"There is one patient of blood type \"+key+\".\")\n",
    "        ##If multiple patients are found\n",
    "        else:\n",
    "            print(\"There are \"+str(value)+\" patients of blood type \"+key+\".\")\n",
    "bldcount('bloodtype.txt')"
   ]
  },
  {
   "cell_type": "markdown",
   "id": "453fa340",
   "metadata": {},
   "source": [
    "## Question 8\n",
    "Write a function curconv() that takes as input:\n",
    "<br>\n",
    "1. a currency represented using a string (e.g., 'JPY' for the Japanese Yen or 'EUR' for the Euro)\n",
    "<br>\n",
    "2. an amount\n",
    "<br>\n",
    "and then converts and returns the amount in US dollars."
   ]
  },
  {
   "cell_type": "code",
   "execution_count": 70,
   "id": "142dc46e",
   "metadata": {},
   "outputs": [
    {
     "data": {
      "text/plain": [
       "122.96544"
      ]
     },
     "execution_count": 70,
     "metadata": {},
     "output_type": "execute_result"
    }
   ],
   "source": [
    "def curconv(curr_symbol,amt):\n",
    "    ##Read the rates from a file\n",
    "    file = open(\"currencies.txt\",'r')\n",
    "    lines = file.readlines()\n",
    "    ##Iterate through lines to find the currency symbol\n",
    "    for line in lines:\n",
    "        ##Split the line to get specific data\n",
    "        currency_data = line.strip().split(\" \")\n",
    "        ##Return the converted value in USD if symbol found\n",
    "        if currency_data[0].lower() == curr_symbol.lower():\n",
    "            return (float(currency_data[1]) * amt)\n",
    "             \n",
    "\n",
    "curconv('EUR',100)"
   ]
  },
  {
   "cell_type": "markdown",
   "id": "d5ed1730",
   "metadata": {},
   "source": [
    "## Question 9\n",
    "Each of the following will cause an exception (an error). Identify what type of exception each will cause.\n",
    "<br>\n",
    "Trying to add incompatible variables, as in adding 6 + ‘a’\n",
    "<br>\n",
    "Referring to the 12th item of a list that has only 10 items\n",
    "<br>\n",
    "Using a value that is out of range for a function’s input, such as calling math.sqrt(-1.0)\n",
    "<br>\n",
    "Using an undeclared variable, such as print(x) when x has not been defined\n",
    "<br>\n",
    "Trying to open a file that does not exist, such as mistyping the file name or looking in the wrong directory."
   ]
  },
  {
   "cell_type": "code",
   "execution_count": 80,
   "id": "c29b59bf",
   "metadata": {},
   "outputs": [
    {
     "ename": "FileNotFoundError",
     "evalue": "[Errno 2] No such file or directory: 's.txt'",
     "output_type": "error",
     "traceback": [
      "\u001b[1;31m---------------------------------------------------------------------------\u001b[0m",
      "\u001b[1;31mFileNotFoundError\u001b[0m                         Traceback (most recent call last)",
      "\u001b[1;32m<ipython-input-80-e68b1c8570d7>\u001b[0m in \u001b[0;36m<module>\u001b[1;34m\u001b[0m\n\u001b[0;32m     14\u001b[0m \u001b[1;33m\u001b[0m\u001b[0m\n\u001b[0;32m     15\u001b[0m \u001b[1;31m#e.\u001b[0m\u001b[1;33m\u001b[0m\u001b[1;33m\u001b[0m\u001b[1;33m\u001b[0m\u001b[0m\n\u001b[1;32m---> 16\u001b[1;33m \u001b[0mfile\u001b[0m \u001b[1;33m=\u001b[0m \u001b[0mopen\u001b[0m\u001b[1;33m(\u001b[0m\u001b[1;34m's.txt'\u001b[0m\u001b[1;33m,\u001b[0m\u001b[1;34m'r'\u001b[0m\u001b[1;33m)\u001b[0m\u001b[1;33m\u001b[0m\u001b[1;33m\u001b[0m\u001b[0m\n\u001b[0m",
      "\u001b[1;31mFileNotFoundError\u001b[0m: [Errno 2] No such file or directory: 's.txt'"
     ]
    }
   ],
   "source": [
    "#a.\n",
    "#6 + 'a' ###Throws TypeError since + is used between an int and a string\n",
    "\n",
    "#b.\n",
    "#items = [1,2,3,4,5,6,7,8,9,0]\n",
    "#items[11] ###Throws IndexError since list index is out of range\n",
    "\n",
    "#c.\n",
    "##Import math library for squareroot function\n",
    "#math.sqrt(-1) ###Throws ValueError because the value is out of range\n",
    "\n",
    "#d.\n",
    "#print(x) ###Throws NameError since 'x' is not defined yet.\n",
    "\n",
    "#e.\n",
    "#file = open('s.txt','r') ###Throws FileNotFoundError since the file named 's.txt' doesn't exist\n",
    "\n",
    "##Uncomment any of the above lines to get the described results in the comments."
   ]
  },
  {
   "cell_type": "markdown",
   "id": "0e15a738",
   "metadata": {},
   "source": [
    "## Question 10\n",
    "Encryption is the process of hiding the meaning of a text by substituting letters in the message with other letters, according to some system. If the process is successful, no one but the intended recipient can understand the encrypted message. Cryptanalysis refers to attempts to undo the encryption, even if some details of the encryption are unknown (for example, if an encrypted message has been intercepted). The first step of cryptanalysis is often to build up a table of letter frequencies in the encrypted text. Assume that the string letters is already defined as 'abcdefghijklmnopqrstuvwxyz'. Write a function called frequencies() that takes a string as its only parameter, and returns a list of integers, showing the number of times each character appears in the text. Your function may ignore any characters that are not in letters. "
   ]
  },
  {
   "cell_type": "code",
   "execution_count": 82,
   "id": "f37db3eb",
   "metadata": {},
   "outputs": [
    {
     "data": {
      "text/plain": [
       "[1, 0, 0, 0, 1, 0, 0, 0, 0, 0, 0, 1, 0, 0, 0, 2, 0, 0, 0, 0, 0, 0, 0, 0, 0, 0]"
      ]
     },
     "execution_count": 82,
     "metadata": {},
     "output_type": "execute_result"
    }
   ],
   "source": [
    "def frequencies(string):\n",
    "    letters =  'abcdefghijklmnopqrstuvwxyz'\n",
    "    freq = {}\n",
    "    return_frequencies = []\n",
    "    ##Initiate the frequencies of each letter at zero\n",
    "    for char in letters:\n",
    "        freq[char] = 0\n",
    "    ##Iterate through all letters in the string\n",
    "    for char in string:\n",
    "        ##If the character is a letter increment its frequency\n",
    "        if char in letters:\n",
    "            freq[char] = freq[char] + 1\n",
    "    ##Iterate through the frequency dictionary to convert into a required return list\n",
    "    for key,value in freq.items():\n",
    "        return_frequencies.append(value)\n",
    "        \n",
    "    ##Return the list of frequencies\n",
    "    return return_frequencies\n",
    "\n",
    "frequencies('apple')"
   ]
  },
  {
   "cell_type": "code",
   "execution_count": null,
   "id": "ace1f018",
   "metadata": {},
   "outputs": [],
   "source": []
  }
 ],
 "metadata": {
  "kernelspec": {
   "display_name": "Python 3",
   "language": "python",
   "name": "python3"
  },
  "language_info": {
   "codemirror_mode": {
    "name": "ipython",
    "version": 3
   },
   "file_extension": ".py",
   "mimetype": "text/x-python",
   "name": "python",
   "nbconvert_exporter": "python",
   "pygments_lexer": "ipython3",
   "version": "3.7.10"
  }
 },
 "nbformat": 4,
 "nbformat_minor": 5
}
